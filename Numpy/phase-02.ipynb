{
 "cells": [
  {
   "cell_type": "markdown",
   "id": "90e095a6",
   "metadata": {},
   "source": [
    "## Numpy Array Operation"
   ]
  },
  {
   "cell_type": "code",
   "execution_count": 2,
   "id": "0464967b",
   "metadata": {},
   "outputs": [],
   "source": [
    "import numpy as np"
   ]
  },
  {
   "cell_type": "code",
   "execution_count": 6,
   "id": "aece33ca",
   "metadata": {},
   "outputs": [
    {
     "name": "stdout",
     "output_type": "stream",
     "text": [
      "[1 2]\n",
      "[0 2 4]\n",
      "8\n"
     ]
    }
   ],
   "source": [
    "arr = np.arange(11)\n",
    "print(arr[1:3])\n",
    "print(arr[0:5:2])\n",
    "print(arr[-3])"
   ]
  },
  {
   "cell_type": "code",
   "execution_count": null,
   "id": "b9d1eb76",
   "metadata": {},
   "outputs": [
    {
     "name": "stdout",
     "output_type": "stream",
     "text": [
      "specific element : 6\n",
      "entire row : [1 2 3]\n",
      "entire row specific column : [2 5 8]\n",
      "specific element : 6\n"
     ]
    }
   ],
   "source": [
    "arr_2d = np.array([[1,2,3],\n",
    "                   [4,5,6],\n",
    "                   [7,8,9]])\n",
    "print(\"specific element :\" , arr_2d[1,2])\n",
    "print(\"entire row :\" , arr_2d[0])\n",
    "print(\"entire row specific column :\" , arr_2d[:,1])  # ':' means entire row "
   ]
  },
  {
   "cell_type": "code",
   "execution_count": 21,
   "id": "33658f45",
   "metadata": {},
   "outputs": [
    {
     "name": "stdout",
     "output_type": "stream",
     "text": [
      "sorted array : [ 2  3  6  8  9 34 78]\n",
      "original array :\n",
      " [[ 3 63  7]\n",
      " [88  1 99]\n",
      " [55 89 66]]\n",
      "2D sorted array :\n",
      " [[ 3  7 63]\n",
      " [ 1 88 99]\n",
      " [55 66 89]]\n",
      "2D column sorted array :\n",
      " [[ 3  1  7]\n",
      " [55 63 66]\n",
      " [88 89 99]]\n",
      "2D row sorted array :\n",
      " [[ 3  7 63]\n",
      " [ 1 88 99]\n",
      " [55 66 89]]\n"
     ]
    }
   ],
   "source": [
    "unsortes_array = np.array([3,6,2,8,34,78,9])\n",
    "print(\"sorted array :\" ,np.sort(unsortes_array))\n",
    "\n",
    "unsorted_2d_array = np.array([[3,63,7],\n",
    "                              [88,1,99],\n",
    "                              [55,89,66]])\n",
    "print(\"original array :\\n\",unsorted_2d_array)\n",
    "print(\"2D sorted array :\\n\", np.sort(unsorted_2d_array))\n",
    "print(\"2D column sorted array :\\n\", np.sort(unsorted_2d_array , axis=0))\n",
    "print(\"2D row sorted array :\\n\", np.sort(unsorted_2d_array , axis=1))\n"
   ]
  },
  {
   "cell_type": "markdown",
   "id": "01fab866",
   "metadata": {},
   "source": [
    "## Filter Array\n"
   ]
  },
  {
   "cell_type": "code",
   "execution_count": 23,
   "id": "8687e36c",
   "metadata": {},
   "outputs": [
    {
     "name": "stdout",
     "output_type": "stream",
     "text": [
      "Even numbers are :  [ 2  4  6  8 10]\n"
     ]
    }
   ],
   "source": [
    "numbers = np.array([1,2,3,4,5,6,7,8,9,10])\n",
    "even_number = numbers[numbers % 2 == 0]\n",
    "print(\"Even numbers are : \",even_number)"
   ]
  },
  {
   "cell_type": "markdown",
   "id": "b066c9a8",
   "metadata": {},
   "source": [
    "## Filter with mask "
   ]
  },
  {
   "cell_type": "code",
   "execution_count": 24,
   "id": "4c08db7d",
   "metadata": {},
   "outputs": [
    {
     "name": "stdout",
     "output_type": "stream",
     "text": [
      "Numbers greater than 5 is :  [ 6  7  8  9 10]\n"
     ]
    }
   ],
   "source": [
    "mask = numbers > 5\n",
    "print(\"Numbers greater than 5 is : \" , numbers[mask])"
   ]
  },
  {
   "cell_type": "markdown",
   "id": "cf46ec86",
   "metadata": {},
   "source": [
    "## Fancy indexing vs np.where()"
   ]
  },
  {
   "cell_type": "code",
   "execution_count": 28,
   "id": "af0bd663",
   "metadata": {},
   "outputs": [
    {
     "name": "stdout",
     "output_type": "stream",
     "text": [
      "[ 1  2  3  4  5  6  7  8  9 10]\n",
      "[ 3  4 10]\n",
      "[ 6  7  8  9 10]\n"
     ]
    }
   ],
   "source": [
    "indices = [ 2,3,9]\n",
    "print(numbers)\n",
    "print(numbers[indices])  # It will enter the numbers at position 2,3,9\n",
    "\n",
    "where_result = np.where(numbers>5)\n",
    "print(numbers[where_result])"
   ]
  },
  {
   "cell_type": "code",
   "execution_count": 29,
   "id": "05ef9a27",
   "metadata": {},
   "outputs": [
    {
     "name": "stdout",
     "output_type": "stream",
     "text": [
      "[ 1  2  3  4  5 12 14 16 18 20]\n"
     ]
    }
   ],
   "source": [
    "condition_array = np.where(numbers > 5 , numbers * 2 , numbers)\n",
    "print(condition_array)"
   ]
  },
  {
   "cell_type": "markdown",
   "id": "6af91331",
   "metadata": {},
   "source": [
    "## Adding and Removing the data"
   ]
  },
  {
   "cell_type": "code",
   "execution_count": null,
   "id": "a1dde753",
   "metadata": {},
   "outputs": [
    {
     "name": "stdout",
     "output_type": "stream",
     "text": [
      "original array : \n",
      " [[1 2 3]\n",
      " [4 5 6]]\n",
      "full array : \n",
      " [[1 2 3]\n",
      " [4 5 6]\n",
      " [7 8 9]]\n",
      "full array : \n",
      " [[1 2 3 0]\n",
      " [4 5 6 0]]\n"
     ]
    }
   ],
   "source": [
    "# Adding \n",
    "original_array = np.array([[1,2,3], [4,5,6]])\n",
    "new_row = np.array([[7,8,9]])\n",
    "\n",
    "with_new_row = np.vstack((original_array , new_row))\n",
    "print(\"original array : \\n\",original_array)\n",
    "print(\"full array : \\n\" ,with_new_row)\n",
    "\n",
    "new_column = np.array([[0],[0]])\n",
    "with_new_column = np.hstack((original_array , new_column))\n",
    "print(\"full array : \\n\" ,with_new_column)\n"
   ]
  },
  {
   "cell_type": "code",
   "execution_count": 44,
   "id": "63115b32",
   "metadata": {},
   "outputs": [
    {
     "name": "stdout",
     "output_type": "stream",
     "text": [
      "[1 2 3 5 6 7 8]\n"
     ]
    }
   ],
   "source": [
    "# removing\n",
    "arr = np.array([1,2,3,4,5,6,7,8])\n",
    "deleted = np.delete(arr , 3 )\n",
    "print(deleted)"
   ]
  }
 ],
 "metadata": {
  "kernelspec": {
   "display_name": "venv",
   "language": "python",
   "name": "python3"
  },
  "language_info": {
   "codemirror_mode": {
    "name": "ipython",
    "version": 3
   },
   "file_extension": ".py",
   "mimetype": "text/x-python",
   "name": "python",
   "nbconvert_exporter": "python",
   "pygments_lexer": "ipython3",
   "version": "3.12.6"
  }
 },
 "nbformat": 4,
 "nbformat_minor": 5
}
