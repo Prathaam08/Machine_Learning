{
 "cells": [
  {
   "cell_type": "markdown",
   "id": "9218af18",
   "metadata": {},
   "source": [
    "## NUMPY\n"
   ]
  },
  {
   "cell_type": "code",
   "execution_count": 1,
   "id": "f9d54713",
   "metadata": {},
   "outputs": [],
   "source": [
    "import numpy as np"
   ]
  },
  {
   "cell_type": "markdown",
   "id": "b44ee71f",
   "metadata": {},
   "source": [
    "## Creating Array from List"
   ]
  },
  {
   "cell_type": "code",
   "execution_count": 10,
   "id": "c90bb6be",
   "metadata": {},
   "outputs": [
    {
     "name": "stdout",
     "output_type": "stream",
     "text": [
      "1D Array : [1 2 3 4]\n",
      "2D Array : [[1 2 3 4]\n",
      " [5 6 7 8]]\n"
     ]
    }
   ],
   "source": [
    "arr_1d = np.array([1,2,3,4])\n",
    "print(\"1D Array :\", arr_1d) \n",
    "\n",
    "arr_2d = np.array([[1,2,3,4] , [5,6,7,8]])\n",
    "print(\"2D Array :\",  arr_2d) "
   ]
  },
  {
   "cell_type": "markdown",
   "id": "a2185be2",
   "metadata": {},
   "source": [
    "## List vs Numpy Array"
   ]
  },
  {
   "cell_type": "code",
   "execution_count": 29,
   "id": "073223b5",
   "metadata": {},
   "outputs": [
    {
     "name": "stdout",
     "output_type": "stream",
     "text": [
      "Multipication of List is [1, 2, 3, 4, 1, 2, 3, 4]\n",
      "Multipication of Array is [2 4 6 8]\n",
      "The time taken to multiply list is : 0.00958395004272461\n",
      "The time taken to multipy numpy array is : 0.010674715042114258\n"
     ]
    }
   ],
   "source": [
    "# Simple Python \n",
    "py_list = [1,2,3,4]\n",
    "print(\"Multipication of List is\", py_list * 2)\n",
    "\n",
    "# In Numpy \n",
    "np_array = np.array([1,2,3,4])   # element vise multiplication\n",
    "print(\"Multipication of Array is\", np_array * 2)\n",
    "\n",
    "import time \n",
    "start = time.time()\n",
    "py_list = [i*2 for i in range(100000)]\n",
    "print(\"The time taken to multiply list is :\" , time.time() - start)\n",
    "\n",
    "strat = time.time()\n",
    "np_array = np.arange(100000) * 2   # arange is used to give range\n",
    "print(\"The time taken to multipy numpy array is :\" , time.time() - start)\n",
    "\n",
    "\n"
   ]
  },
  {
   "cell_type": "markdown",
   "id": "e6c5d41e",
   "metadata": {},
   "source": [
    "## Creating Array from scratch"
   ]
  },
  {
   "cell_type": "code",
   "execution_count": 40,
   "id": "ea8b55a0",
   "metadata": {},
   "outputs": [
    {
     "name": "stdout",
     "output_type": "stream",
     "text": [
      "zeros array :\n",
      " [[0. 0. 0. 0.]\n",
      " [0. 0. 0. 0.]\n",
      " [0. 0. 0. 0.]]\n",
      "zeros array :\n",
      " [[1. 1. 1. 1.]\n",
      " [1. 1. 1. 1.]\n",
      " [1. 1. 1. 1.]]\n",
      "Full array :\n",
      " [[10 10]\n",
      " [10 10]]\n",
      "random array :\n",
      " [[0.64079959 0.48306636 0.45996374]\n",
      " [0.96238695 0.16245541 0.99070526]]\n",
      "sequence array :\n",
      " [0 2 4 6 8]\n"
     ]
    }
   ],
   "source": [
    "# zero Array\n",
    "zeros = np.zeros((3,4))\n",
    "print(\"zeros array :\\n\", zeros)\n",
    "\n",
    "# Ones Array\n",
    "ones = np.ones((3,4))\n",
    "print(\"zeros array :\\n\", ones)\n",
    "\n",
    "# For specific constant \n",
    "full = np.full((2,2) ,10)\n",
    "print(\"Full array :\\n\", full)\n",
    "\n",
    "# Random \n",
    "random = np.random.random((2,3))\n",
    "print(\"random array :\\n\", random)\n",
    "\n",
    "# Sequence Array\n",
    "sequence = np.arange(0 , 10 , 2)\n",
    "print(\"sequence array :\\n\" , sequence)"
   ]
  },
  {
   "cell_type": "markdown",
   "id": "d06300fb",
   "metadata": {},
   "source": [
    "## Vector , Matrix , Tensor"
   ]
  },
  {
   "cell_type": "code",
   "execution_count": null,
   "id": "9bcaa8b0",
   "metadata": {},
   "outputs": [
    {
     "name": "stdout",
     "output_type": "stream",
     "text": [
      "Vector:\n",
      "  [1 2 3 4]\n",
      "Matrix:\n",
      "  [[1 2 3]\n",
      " [4 5 6]]\n",
      "Tensor:\n",
      "  [[[1 2 3]\n",
      "  [4 5 6]]\n",
      "\n",
      " [[7 8 9]\n",
      "  [1 1 1]]]\n",
      "3\n"
     ]
    }
   ],
   "source": [
    "# vector \n",
    "vector = np.array([1,2,3,4])\n",
    "print(\"Vector:\\n \" , vector)\n",
    "\n",
    "# matrix \n",
    "matrix = np.array([[1,2,3],\n",
    "                   [4,5,6]])\n",
    "print(\"Matrix:\\n \" , matrix)\n",
    "\n",
    "# Tensor\n",
    "tensor = np.array([[[1,2,3], [4,5,6]],\n",
    "                   [[7,8,9], [1,1,1]]])\n",
    "print(\"Tensor:\\n \" , tensor)\n"
   ]
  },
  {
   "cell_type": "markdown",
   "id": "1b93e71b",
   "metadata": {},
   "source": [
    "## Array Properties"
   ]
  },
  {
   "cell_type": "code",
   "execution_count": 48,
   "id": "689291be",
   "metadata": {},
   "outputs": [
    {
     "name": "stdout",
     "output_type": "stream",
     "text": [
      "shape: (2, 3)\n",
      "dimension: 2\n",
      "size: 6\n",
      "datatype: int64\n"
     ]
    }
   ],
   "source": [
    "arr = np.array([[1,2,3],\n",
    "                [4,5,6]])\n",
    "print(\"shape:\", arr.shape)\n",
    "print(\"dimension:\", arr.ndim)\n",
    "print(\"size:\", arr.size)\n",
    "print(\"datatype:\", arr.dtype)\n",
    "\n"
   ]
  },
  {
   "cell_type": "markdown",
   "id": "00d92155",
   "metadata": {},
   "source": [
    "## Array Reshaping"
   ]
  },
  {
   "cell_type": "code",
   "execution_count": 57,
   "id": "50f4e94d",
   "metadata": {},
   "outputs": [
    {
     "name": "stdout",
     "output_type": "stream",
     "text": [
      "Array : [ 0  1  2  3  4  5  6  7  8  9 10 11]\n",
      "Reshaped : [[ 0  1  2  3]\n",
      " [ 4  5  6  7]\n",
      " [ 8  9 10 11]]\n",
      "Flattened :  [ 0  1  2  3  4  5  6  7  8  9 10 11]\n",
      "Raveled :  [ 0  1  2  3  4  5  6  7  8  9 10 11]\n",
      "Transpose :  [[ 0  4  8]\n",
      " [ 1  5  9]\n",
      " [ 2  6 10]\n",
      " [ 3  7 11]]\n"
     ]
    }
   ],
   "source": [
    "arr = np.arange(12)\n",
    "print(\"Array :\" , arr)\n",
    "\n",
    "reshaped = arr.reshape((3,4))\n",
    "print(\"Reshaped :\" , reshaped)\n",
    "\n",
    "flattened = reshaped.flatten()\n",
    "print(\"Flattened : \" ,flattened)\n",
    "\n",
    "raveled = reshaped.ravel()  # returned view instead of copy\n",
    "print(\"Raveled : \" ,raveled)\n",
    "\n",
    "transpose = reshaped.T\n",
    "print(\"Transpose : \" , transpose)\n"
   ]
  },
  {
   "cell_type": "markdown",
   "id": "a9bcb95f",
   "metadata": {},
   "source": [
    "## Array Join"
   ]
  },
  {
   "cell_type": "code",
   "execution_count": 58,
   "id": "ef629d90",
   "metadata": {},
   "outputs": [
    {
     "name": "stdout",
     "output_type": "stream",
     "text": [
      "[1 2 3 4 5 6]\n"
     ]
    }
   ],
   "source": [
    "\n",
    "arr1 = np.array([1, 2, 3])\n",
    "\n",
    "arr2 = np.array([4, 5, 6])\n",
    "\n",
    "arr = np.concatenate((arr1, arr2))\n",
    "\n",
    "print(arr)"
   ]
  },
  {
   "cell_type": "markdown",
   "id": "e52d9eea",
   "metadata": {},
   "source": [
    "## Array split"
   ]
  },
  {
   "cell_type": "code",
   "execution_count": 59,
   "id": "19c75ff0",
   "metadata": {},
   "outputs": [
    {
     "name": "stdout",
     "output_type": "stream",
     "text": [
      "[array([1, 2]), array([3, 4]), array([5, 6])]\n"
     ]
    }
   ],
   "source": [
    "\n",
    "\n",
    "arr = np.array([1, 2, 3, 4, 5, 6])\n",
    "\n",
    "newarr = np.array_split(arr, 3)\n",
    "\n",
    "print(newarr)"
   ]
  }
 ],
 "metadata": {
  "kernelspec": {
   "display_name": "venv",
   "language": "python",
   "name": "python3"
  },
  "language_info": {
   "codemirror_mode": {
    "name": "ipython",
    "version": 3
   },
   "file_extension": ".py",
   "mimetype": "text/x-python",
   "name": "python",
   "nbconvert_exporter": "python",
   "pygments_lexer": "ipython3",
   "version": "3.12.6"
  }
 },
 "nbformat": 4,
 "nbformat_minor": 5
}
