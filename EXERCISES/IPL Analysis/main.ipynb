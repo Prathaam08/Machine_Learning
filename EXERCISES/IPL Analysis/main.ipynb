{
 "cells": [
  {
   "cell_type": "code",
   "execution_count": 1,
   "id": "ee2042c1",
   "metadata": {},
   "outputs": [],
   "source": [
    "import numpy as np\n",
    "import matplotlib.pyplot as plt\n",
    "import pandas as pd"
   ]
  },
  {
   "cell_type": "markdown",
   "id": "d1ed28aa",
   "metadata": {},
   "source": [
    "## Load and Analysis Data"
   ]
  },
  {
   "cell_type": "code",
   "execution_count": null,
   "id": "20ae11e3",
   "metadata": {},
   "outputs": [
    {
     "name": "stdout",
     "output_type": "stream",
     "text": [
      "       id   season        city        date match_type player_of_match  \\\n",
      "0  335982  2007/08   Bangalore  2008-04-18     League     BB McCullum   \n",
      "1  335983  2007/08  Chandigarh  2008-04-19     League      MEK Hussey   \n",
      "2  335984  2007/08       Delhi  2008-04-19     League     MF Maharoof   \n",
      "3  335985  2007/08      Mumbai  2008-04-20     League      MV Boucher   \n",
      "4  335986  2007/08     Kolkata  2008-04-20     League       DJ Hussey   \n",
      "\n",
      "                                        venue                        team1  \\\n",
      "0                       M Chinnaswamy Stadium  Royal Challengers Bangalore   \n",
      "1  Punjab Cricket Association Stadium, Mohali              Kings XI Punjab   \n",
      "2                            Feroz Shah Kotla             Delhi Daredevils   \n",
      "3                            Wankhede Stadium               Mumbai Indians   \n",
      "4                                Eden Gardens        Kolkata Knight Riders   \n",
      "\n",
      "                         team2                  toss_winner toss_decision  \\\n",
      "0        Kolkata Knight Riders  Royal Challengers Bangalore         field   \n",
      "1          Chennai Super Kings          Chennai Super Kings           bat   \n",
      "2             Rajasthan Royals             Rajasthan Royals           bat   \n",
      "3  Royal Challengers Bangalore               Mumbai Indians           bat   \n",
      "4              Deccan Chargers              Deccan Chargers           bat   \n",
      "\n",
      "                        winner   result  result_margin  target_runs  \\\n",
      "0        Kolkata Knight Riders     runs          140.0        223.0   \n",
      "1          Chennai Super Kings     runs           33.0        241.0   \n",
      "2             Delhi Daredevils  wickets            9.0        130.0   \n",
      "3  Royal Challengers Bangalore  wickets            5.0        166.0   \n",
      "4        Kolkata Knight Riders  wickets            5.0        111.0   \n",
      "\n",
      "   target_overs super_over method    umpire1         umpire2  \n",
      "0          20.0          N    NaN  Asad Rauf     RE Koertzen  \n",
      "1          20.0          N    NaN  MR Benson      SL Shastri  \n",
      "2          20.0          N    NaN  Aleem Dar  GA Pratapkumar  \n",
      "3          20.0          N    NaN   SJ Davis       DJ Harper  \n",
      "4          20.0          N    NaN  BF Bowden     K Hariharan  \n"
     ]
    }
   ],
   "source": [
    "df = pd.read_csv('./data/matches.csv')\n",
    "print(df.head(5))"
   ]
  },
  {
   "cell_type": "code",
   "execution_count": 23,
   "id": "766b4c71",
   "metadata": {},
   "outputs": [
    {
     "name": "stdout",
     "output_type": "stream",
     "text": [
      "Index(['id', 'season', 'city', 'date', 'match_type', 'player_of_match',\n",
      "       'venue', 'team1', 'team2', 'toss_winner', 'toss_decision', 'winner',\n",
      "       'result', 'result_margin', 'target_runs', 'target_overs', 'super_over',\n",
      "       'method', 'umpire1', 'umpire2'],\n",
      "      dtype='object')\n",
      "           id   season        city        date  player_of_match  \\\n",
      "0      335982  2007/08   Bangalore  2008-04-18      BB McCullum   \n",
      "1      335983  2007/08  Chandigarh  2008-04-19       MEK Hussey   \n",
      "2      335984  2007/08       Delhi  2008-04-19      MF Maharoof   \n",
      "3      335985  2007/08      Mumbai  2008-04-20       MV Boucher   \n",
      "4      335986  2007/08     Kolkata  2008-04-20        DJ Hussey   \n",
      "...       ...      ...         ...         ...              ...   \n",
      "1090  1426307     2024   Hyderabad  2024-05-19  Abhishek Sharma   \n",
      "1091  1426309     2024   Ahmedabad  2024-05-21         MA Starc   \n",
      "1092  1426310     2024   Ahmedabad  2024-05-22         R Ashwin   \n",
      "1093  1426311     2024     Chennai  2024-05-24    Shahbaz Ahmed   \n",
      "1094  1426312     2024     Chennai  2024-05-26         MA Starc   \n",
      "\n",
      "                                                  venue  \\\n",
      "0                                 M Chinnaswamy Stadium   \n",
      "1            Punjab Cricket Association Stadium, Mohali   \n",
      "2                                      Feroz Shah Kotla   \n",
      "3                                      Wankhede Stadium   \n",
      "4                                          Eden Gardens   \n",
      "...                                                 ...   \n",
      "1090  Rajiv Gandhi International Stadium, Uppal, Hyd...   \n",
      "1091                   Narendra Modi Stadium, Ahmedabad   \n",
      "1092                   Narendra Modi Stadium, Ahmedabad   \n",
      "1093           MA Chidambaram Stadium, Chepauk, Chennai   \n",
      "1094           MA Chidambaram Stadium, Chepauk, Chennai   \n",
      "\n",
      "                            team1                        team2  \\\n",
      "0     Royal Challengers Bangalore        Kolkata Knight Riders   \n",
      "1                 Kings XI Punjab          Chennai Super Kings   \n",
      "2                Delhi Daredevils             Rajasthan Royals   \n",
      "3                  Mumbai Indians  Royal Challengers Bangalore   \n",
      "4           Kolkata Knight Riders              Deccan Chargers   \n",
      "...                           ...                          ...   \n",
      "1090                 Punjab Kings          Sunrisers Hyderabad   \n",
      "1091          Sunrisers Hyderabad        Kolkata Knight Riders   \n",
      "1092  Royal Challengers Bengaluru             Rajasthan Royals   \n",
      "1093          Sunrisers Hyderabad             Rajasthan Royals   \n",
      "1094          Sunrisers Hyderabad        Kolkata Knight Riders   \n",
      "\n",
      "                      toss_winner toss_decision                       winner  \\\n",
      "0     Royal Challengers Bangalore         field        Kolkata Knight Riders   \n",
      "1             Chennai Super Kings           bat          Chennai Super Kings   \n",
      "2                Rajasthan Royals           bat             Delhi Daredevils   \n",
      "3                  Mumbai Indians           bat  Royal Challengers Bangalore   \n",
      "4                 Deccan Chargers           bat        Kolkata Knight Riders   \n",
      "...                           ...           ...                          ...   \n",
      "1090                 Punjab Kings           bat          Sunrisers Hyderabad   \n",
      "1091          Sunrisers Hyderabad           bat        Kolkata Knight Riders   \n",
      "1092             Rajasthan Royals         field             Rajasthan Royals   \n",
      "1093             Rajasthan Royals         field          Sunrisers Hyderabad   \n",
      "1094          Sunrisers Hyderabad           bat        Kolkata Knight Riders   \n",
      "\n",
      "      target_runs  target_overs super_over                umpire1  \\\n",
      "0           223.0          20.0          N              Asad Rauf   \n",
      "1           241.0          20.0          N              MR Benson   \n",
      "2           130.0          20.0          N              Aleem Dar   \n",
      "3           166.0          20.0          N               SJ Davis   \n",
      "4           111.0          20.0          N              BF Bowden   \n",
      "...           ...           ...        ...                    ...   \n",
      "1090        215.0          20.0          N            Nitin Menon   \n",
      "1091        160.0          20.0          N           AK Chaudhary   \n",
      "1092        173.0          20.0          N  KN Ananthapadmanabhan   \n",
      "1093        176.0          20.0          N            Nitin Menon   \n",
      "1094        114.0          20.0          N          J Madanagopal   \n",
      "\n",
      "                   umpire2  \n",
      "0              RE Koertzen  \n",
      "1               SL Shastri  \n",
      "2           GA Pratapkumar  \n",
      "3                DJ Harper  \n",
      "4              K Hariharan  \n",
      "...                    ...  \n",
      "1090             VK Sharma  \n",
      "1091              R Pandit  \n",
      "1092  MV Saidharshan Kumar  \n",
      "1093             VK Sharma  \n",
      "1094           Nitin Menon  \n",
      "\n",
      "[1095 rows x 16 columns]\n"
     ]
    }
   ],
   "source": [
    "print(df.columns)\n",
    "updateData = df.drop(columns=['match_type' , 'result' ,'result_margin' , 'method'])\n",
    "print(updateData)"
   ]
  },
  {
   "cell_type": "code",
   "execution_count": null,
   "id": "44531b58",
   "metadata": {},
   "outputs": [
    {
     "name": "stdout",
     "output_type": "stream",
     "text": [
      "(1095, 20)\n",
      "<class 'pandas.core.frame.DataFrame'>\n",
      "RangeIndex: 1095 entries, 0 to 1094\n",
      "Data columns (total 20 columns):\n",
      " #   Column           Non-Null Count  Dtype  \n",
      "---  ------           --------------  -----  \n",
      " 0   id               1095 non-null   int64  \n",
      " 1   season           1095 non-null   object \n",
      " 2   city             1044 non-null   object \n",
      " 3   date             1095 non-null   object \n",
      " 4   match_type       1095 non-null   object \n",
      " 5   player_of_match  1090 non-null   object \n",
      " 6   venue            1095 non-null   object \n",
      " 7   team1            1095 non-null   object \n",
      " 8   team2            1095 non-null   object \n",
      " 9   toss_winner      1095 non-null   object \n",
      " 10  toss_decision    1095 non-null   object \n",
      " 11  winner           1090 non-null   object \n",
      " 12  result           1095 non-null   object \n",
      " 13  result_margin    1076 non-null   float64\n",
      " 14  target_runs      1092 non-null   float64\n",
      " 15  target_overs     1092 non-null   float64\n",
      " 16  super_over       1095 non-null   object \n",
      " 17  method           21 non-null     object \n",
      " 18  umpire1          1095 non-null   object \n",
      " 19  umpire2          1095 non-null   object \n",
      "dtypes: float64(3), int64(1), object(16)\n",
      "memory usage: 171.2+ KB\n",
      "None\n",
      "                 id  result_margin  target_runs  target_overs\n",
      "count  1.095000e+03    1076.000000  1092.000000   1092.000000\n",
      "mean   9.048283e+05      17.259294   165.684066     19.759341\n",
      "std    3.677402e+05      21.787444    33.427048      1.581108\n",
      "min    3.359820e+05       1.000000    43.000000      5.000000\n",
      "25%    5.483315e+05       6.000000   146.000000     20.000000\n",
      "50%    9.809610e+05       8.000000   166.000000     20.000000\n",
      "75%    1.254062e+06      20.000000   187.000000     20.000000\n",
      "max    1.426312e+06     146.000000   288.000000     20.000000\n"
     ]
    }
   ],
   "source": [
    "print(df.shape)\n",
    "print(df.info())\n",
    "print(df.describe())"
   ]
  },
  {
   "cell_type": "code",
   "execution_count": 28,
   "id": "11fe831c",
   "metadata": {},
   "outputs": [
    {
     "name": "stdout",
     "output_type": "stream",
     "text": [
      "id                    0\n",
      "season                0\n",
      "city                 51\n",
      "date                  0\n",
      "match_type            0\n",
      "player_of_match       5\n",
      "venue                 0\n",
      "team1                 0\n",
      "team2                 0\n",
      "toss_winner           0\n",
      "toss_decision         0\n",
      "winner                5\n",
      "result                0\n",
      "result_margin        19\n",
      "target_runs           3\n",
      "target_overs          3\n",
      "super_over            0\n",
      "method             1074\n",
      "umpire1               0\n",
      "umpire2               0\n",
      "dtype: int64\n"
     ]
    }
   ],
   "source": [
    "print(df.isnull().sum())"
   ]
  },
  {
   "cell_type": "code",
   "execution_count": 29,
   "id": "2ebdcced",
   "metadata": {},
   "outputs": [
    {
     "name": "stdout",
     "output_type": "stream",
     "text": [
      "['Royal Challengers Bangalore' 'Kings XI Punjab' 'Delhi Daredevils'\n",
      " 'Mumbai Indians' 'Kolkata Knight Riders' 'Rajasthan Royals'\n",
      " 'Deccan Chargers' 'Chennai Super Kings' 'Kochi Tuskers Kerala'\n",
      " 'Pune Warriors' 'Sunrisers Hyderabad' 'Gujarat Lions'\n",
      " 'Rising Pune Supergiants' 'Rising Pune Supergiant' 'Delhi Capitals'\n",
      " 'Punjab Kings' 'Lucknow Super Giants' 'Gujarat Titans'\n",
      " 'Royal Challengers Bengaluru']\n"
     ]
    }
   ],
   "source": [
    "print(df['team1'].unique())"
   ]
  }
 ],
 "metadata": {
  "kernelspec": {
   "display_name": "venv",
   "language": "python",
   "name": "python3"
  },
  "language_info": {
   "codemirror_mode": {
    "name": "ipython",
    "version": 3
   },
   "file_extension": ".py",
   "mimetype": "text/x-python",
   "name": "python",
   "nbconvert_exporter": "python",
   "pygments_lexer": "ipython3",
   "version": "3.12.6"
  }
 },
 "nbformat": 4,
 "nbformat_minor": 5
}
