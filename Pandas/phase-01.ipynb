{
 "cells": [
  {
   "cell_type": "markdown",
   "id": "a233be4b",
   "metadata": {},
   "source": [
    "## Pandas"
   ]
  },
  {
   "cell_type": "code",
   "execution_count": 2,
   "id": "6fceff85",
   "metadata": {},
   "outputs": [],
   "source": [
    "import pandas as pd\n",
    "import numpy as np"
   ]
  },
  {
   "cell_type": "markdown",
   "id": "a0c2eae4",
   "metadata": {},
   "source": [
    "## Series"
   ]
  },
  {
   "cell_type": "code",
   "execution_count": 11,
   "id": "fd7994e7",
   "metadata": {},
   "outputs": [
    {
     "name": "stdout",
     "output_type": "stream",
     "text": [
      "0    1\n",
      "1    2\n",
      "2    3\n",
      "3    4\n",
      "4    5\n",
      "dtype: int64\n"
     ]
    }
   ],
   "source": [
    "a = pd.Series([1,2,3,4,5])\n",
    "print(a)"
   ]
  },
  {
   "cell_type": "code",
   "execution_count": 12,
   "id": "14120d38",
   "metadata": {},
   "outputs": [
    {
     "name": "stdout",
     "output_type": "stream",
     "text": [
      "a    1\n",
      "b    2\n",
      "c    3\n",
      "d    4\n",
      "e    5\n",
      "dtype: int64\n"
     ]
    }
   ],
   "source": [
    "# List\n",
    "b = pd.Series([1,2,3,4,5] , index = [\"a\" ,\"b\" ,\"c\" ,\"d\" , \"e\"])\n",
    "print(b)"
   ]
  },
  {
   "cell_type": "code",
   "execution_count": 13,
   "id": "ee5d0970",
   "metadata": {},
   "outputs": [
    {
     "name": "stdout",
     "output_type": "stream",
     "text": [
      "a    1\n",
      "b    2\n",
      "c    3\n",
      "dtype: int64\n"
     ]
    }
   ],
   "source": [
    "# Dictionary\n",
    "c = pd.Series({\"a\" : 1 , \"b\" : 2 , \"c\" : 3})\n",
    "print(c)"
   ]
  },
  {
   "cell_type": "code",
   "execution_count": 14,
   "id": "a45477e6",
   "metadata": {},
   "outputs": [
    {
     "name": "stdout",
     "output_type": "stream",
     "text": [
      "a    5\n",
      "b    5\n",
      "c    5\n",
      "d    5\n",
      "e    5\n",
      "dtype: int64\n"
     ]
    }
   ],
   "source": [
    "d = pd.Series(5 , index = [\"a\" ,\"b\" ,\"c\" ,\"d\" , \"e\"])\n",
    "print(d)"
   ]
  },
  {
   "cell_type": "markdown",
   "id": "6f1253c3",
   "metadata": {},
   "source": [
    "### DataFrame"
   ]
  },
  {
   "cell_type": "code",
   "execution_count": null,
   "id": "aed5fd14",
   "metadata": {},
   "outputs": [
    {
     "name": "stdout",
     "output_type": "stream",
     "text": [
      "      name  age\n",
      "a  pratham   20\n",
      "b     john   25\n",
      "c    henry   30\n",
      "d    shawn   35\n"
     ]
    }
   ],
   "source": [
    "data = {\n",
    "    'name' : ['pratham' , 'john' , 'henry' , 'shawn'],\n",
    "    'age'  : [20 , 25 , 30 , 35]\n",
    "}\n",
    "\n",
    "df = pd.DataFrame(data , index = [\"a\" , \"b\" , \"c\" , \"d\"]) # default index is 0,1,2,3,..\n",
    "print(df)"
   ]
  },
  {
   "cell_type": "code",
   "execution_count": 27,
   "id": "0e99ed6a",
   "metadata": {},
   "outputs": [
    {
     "name": "stdout",
     "output_type": "stream",
     "text": [
      "Index :  Index(['a', 'b', 'c', 'd'], dtype='object')\n",
      "\n",
      "Index :\n",
      " a    pratham\n",
      "b       john\n",
      "c      henry\n",
      "d      shawn\n",
      "Name: name, dtype: object\n",
      "\n",
      "Age :\n",
      " a    20\n",
      "b    25\n",
      "c    30\n",
      "d    35\n",
      "Name: age, dtype: int64\n",
      "\n",
      "Specific element :\n",
      " pratham\n"
     ]
    }
   ],
   "source": [
    "data = {\n",
    "    'name' : ['pratham' , 'john' , 'henry' , 'shawn'],\n",
    "    'age'  : [20 , 25 , 30 , 35]\n",
    "}\n",
    "\n",
    "df = pd.DataFrame(data , index = [\"a\" , \"b\" , \"c\" , \"d\"]) # default index is 0,1,2,3,..\n",
    "print(\"Index : \" , df.index)\n",
    "print(\"\\nIndex :\\n\" , df.name)\n",
    "print(\"\\nAge :\\n\" , df.age)\n",
    "print(\"\\nSpecific element :\\n\" , df.name.get(\"a\"))"
   ]
  },
  {
   "cell_type": "markdown",
   "id": "227dbce8",
   "metadata": {},
   "source": [
    "## Inspecting Data or Viewing Data"
   ]
  },
  {
   "cell_type": "code",
   "execution_count": 57,
   "id": "65d065eb",
   "metadata": {},
   "outputs": [
    {
     "name": "stdout",
     "output_type": "stream",
     "text": [
      "Data :\n",
      "        name   age\n",
      "0   pratham  20.0\n",
      "1    suresh  22.0\n",
      "2       raj  33.0\n",
      "3       NaN   NaN\n",
      "4      amit  64.0\n",
      "5      neha  88.0\n",
      "6     vikas  23.0\n",
      "7     pooja  34.0\n",
      "8      ajay  11.0\n",
      "9       NaN   NaN\n",
      "10    sneha  55.0\n",
      "11      raj  36.0\n",
      "12    vivek  78.0\n",
      "13     john  98.0\n",
      "14    joker   NaN\n",
      "15  kalpesh  67.0\n",
      "16    sahil  65.0\n",
      "17   nikhil  87.0\n",
      "18   suresh  12.0\n",
      "19    hemat  45.0\n",
      "\n",
      "Top 5 data entries :\n",
      "       name   age\n",
      "0  pratham  20.0\n",
      "1   suresh  22.0\n",
      "2      raj  33.0\n",
      "3      NaN   NaN\n",
      "4     amit  64.0\n",
      "\n",
      "Bottom entries :\n",
      "       name   age\n",
      "17  nikhil  87.0\n",
      "18  suresh  12.0\n",
      "19   hemat  45.0\n",
      "<class 'pandas.core.frame.DataFrame'>\n",
      "RangeIndex: 20 entries, 0 to 19\n",
      "Data columns (total 2 columns):\n",
      " #   Column  Non-Null Count  Dtype  \n",
      "---  ------  --------------  -----  \n",
      " 0   name    18 non-null     object \n",
      " 1   age     17 non-null     float64\n",
      "dtypes: float64(1), object(1)\n",
      "memory usage: 452.0+ bytes\n"
     ]
    }
   ],
   "source": [
    "data = {\n",
    "    'name' : [ 'pratham' , 'suresh' , 'raj' , np.nan , 'amit'\n",
    "              ,'neha' , 'vikas' , 'pooja' , 'ajay' , np.nan\n",
    "              ,'sneha' , 'raj' , 'vivek' , 'john' , 'joker'\n",
    "              , 'kalpesh' , 'sahil' , 'nikhil' , 'suresh' , 'hemat' \n",
    "              ],\n",
    "\n",
    "    'age'   : [ 20 , 22 , 33 , np.nan , 64 , 88 , 23 , 34 , 11 , np.nan , \n",
    "               55 , 36 , 78 , 98 , np.nan , 67 , 65 , 87 , 12 , 45 \n",
    "               ]\n",
    "}\n",
    "\n",
    "# df = pd.DataFrame(data , index = [i+1 for i in range(len(data['name']))])\n",
    "df = pd.DataFrame(data )\n",
    "print(\"Data :\\n\" , df)\n",
    "print(\"\\nTop 5 data entries :\\n\" , df.head())\n",
    "print(\"\\nBottom entries :\\n\" , df.tail(3))\n",
    "df.info()"
   ]
  },
  {
   "cell_type": "code",
   "execution_count": 58,
   "id": "ac1efde7",
   "metadata": {},
   "outputs": [
    {
     "name": "stdout",
     "output_type": "stream",
     "text": [
      "\n",
      "Total null values:\n",
      " name    2\n",
      "age     3\n",
      "dtype: int64\n",
      "\n",
      "Satistical Summary :\n",
      "              age\n",
      "count  17.000000\n",
      "mean   49.294118\n",
      "std    28.252798\n",
      "min    11.000000\n",
      "25%    23.000000\n",
      "50%    45.000000\n",
      "75%    67.000000\n",
      "max    98.000000\n",
      "\n",
      "Duplicate entries :  0     False\n",
      "1     False\n",
      "2     False\n",
      "3     False\n",
      "4     False\n",
      "5     False\n",
      "6     False\n",
      "7     False\n",
      "8     False\n",
      "9      True\n",
      "10    False\n",
      "11     True\n",
      "12    False\n",
      "13    False\n",
      "14    False\n",
      "15    False\n",
      "16    False\n",
      "17    False\n",
      "18     True\n",
      "19    False\n",
      "Name: name, dtype: bool\n",
      "\n",
      "Total Duplicate entries :  3\n"
     ]
    }
   ],
   "source": [
    "print(\"\\nTotal null values:\\n\" , df.isnull().sum())\n",
    "print(\"\\nSatistical Summary :\\n\" , df.describe())\n",
    "print(\"\\nDuplicate entries : \", df['name'].duplicated())\n",
    "print(\"\\nTotal Duplicate entries : \", df['name'].duplicated().sum())"
   ]
  },
  {
   "cell_type": "code",
   "execution_count": 62,
   "id": "8e75250c",
   "metadata": {},
   "outputs": [
    {
     "name": "stdout",
     "output_type": "stream",
     "text": [
      "\n",
      "Sort by index :\n",
      "        name   age\n",
      "0   pratham  20.0\n",
      "1    suresh  22.0\n",
      "2       raj  33.0\n",
      "3       NaN   NaN\n",
      "4      amit  64.0\n",
      "5      neha  88.0\n",
      "6     vikas  23.0\n",
      "7     pooja  34.0\n",
      "8      ajay  11.0\n",
      "9       NaN   NaN\n",
      "10    sneha  55.0\n",
      "11      raj  36.0\n",
      "12    vivek  78.0\n",
      "13     john  98.0\n",
      "14    joker   NaN\n",
      "15  kalpesh  67.0\n",
      "16    sahil  65.0\n",
      "17   nikhil  87.0\n",
      "18   suresh  12.0\n",
      "19    hemat  45.0\n",
      "\n",
      "Sort by values :\n",
      "        name   age\n",
      "8      ajay  11.0\n",
      "18   suresh  12.0\n",
      "0   pratham  20.0\n",
      "1    suresh  22.0\n",
      "6     vikas  23.0\n",
      "2       raj  33.0\n",
      "7     pooja  34.0\n",
      "11      raj  36.0\n",
      "19    hemat  45.0\n",
      "10    sneha  55.0\n",
      "4      amit  64.0\n",
      "16    sahil  65.0\n",
      "15  kalpesh  67.0\n",
      "12    vivek  78.0\n",
      "17   nikhil  87.0\n",
      "5      neha  88.0\n",
      "13     john  98.0\n",
      "3       NaN   NaN\n",
      "9       NaN   NaN\n",
      "14    joker   NaN\n"
     ]
    }
   ],
   "source": [
    "print(\"\\nSort by index :\\n\" , df.sort_index())\n",
    "print(\"\\nSort by values :\\n\" , df.sort_values('age'))\n",
    "# print(\"\\nSort by index :\\n\" , df.sort_index())"
   ]
  },
  {
   "cell_type": "markdown",
   "id": "d4bd4411",
   "metadata": {},
   "source": [
    "## Column Selection or Indexing"
   ]
  },
  {
   "cell_type": "code",
   "execution_count": null,
   "id": "0ca97ede",
   "metadata": {},
   "outputs": [
    {
     "name": "stdout",
     "output_type": "stream",
     "text": [
      "Multiply column Data :\n",
      "        name        city\n",
      "0   pratham      mumbai\n",
      "1    suresh        pune\n",
      "2       raj    kolkatta\n",
      "3       NaN      jhansi\n",
      "4      amit      mumbai\n",
      "5      neha       thane\n",
      "6     vikas      panvel\n",
      "7     pooja  ulhasnagar\n",
      "8      ajay        pune\n",
      "9       NaN       nerul\n",
      "10    sneha    juinagar\n",
      "11      raj      airoli\n",
      "12    vivek      mumbra\n",
      "13     john        diva\n",
      "14    joker      panvel\n",
      "15  kalpesh        sion\n",
      "16    sahil        csmt\n",
      "17   nikhil       thane\n",
      "18   suresh  ulhasnagar\n",
      "19    hemat    kolkatta\n",
      "\n",
      "Select row by integar location :\n",
      " name         sneha\n",
      "age           55.0\n",
      "rollNo         111\n",
      "city      juinagar\n",
      "Name: 10, dtype: object\n",
      "\n",
      "Slice row :\n",
      "     name   age  rollNo        city\n",
      "4   amit  64.0     105      mumbai\n",
      "5   neha  88.0     106       thane\n",
      "6  vikas  23.0     107      panvel\n",
      "7  pooja  34.0     108  ulhasnagar\n",
      "8   ajay  11.0     109        pune\n",
      "9    NaN   NaN     110       nerul\n",
      "\n",
      "Select row by condition :\n",
      "        name   age  rollNo        city\n",
      "2       raj  33.0     103    kolkatta\n",
      "4      amit  64.0     105      mumbai\n",
      "5      neha  88.0     106       thane\n",
      "7     pooja  34.0     108  ulhasnagar\n",
      "10    sneha  55.0     111    juinagar\n",
      "11      raj  36.0     112      airoli\n",
      "12    vivek  78.0     113      mumbra\n",
      "13     john  98.0     114        diva\n",
      "15  kalpesh  67.0     116        sion\n",
      "16    sahil  65.0     117        csmt\n",
      "17   nikhil  87.0     118       thane\n",
      "19    hemat  45.0     120    kolkatta\n"
     ]
    }
   ],
   "source": [
    "studentData = {\n",
    "    'name' : [ 'pratham' , 'suresh' , 'raj' , np.nan , 'amit'\n",
    "              ,'neha' , 'vikas' , 'pooja' , 'ajay' , np.nan\n",
    "              ,'sneha' , 'raj' , 'vivek' , 'john' , 'joker'\n",
    "              , 'kalpesh' , 'sahil' , 'nikhil' , 'suresh' , 'hemat' \n",
    "              ],\n",
    "\n",
    "    'age'   : [ 20 , 22 , 33 , np.nan , 64 , 88 , 23 , 34 , 11 , np.nan , \n",
    "               55 , 36 , 78 , 98 , np.nan , 67 , 65 , 87 , 12 , 45 \n",
    "               ],\n",
    "\n",
    "    'rollNo': [ 101 , 102 , 103 , 104 , 105 , 106 ,107 , 108 , 109 , 110 ,\n",
    "               111 , 112 , 113 , 114 , 115 , 116 , 117 , 118 , 119 , 120\n",
    "    ], \n",
    "\n",
    "    'city'  : [ 'mumbai' , 'pune' , 'kolkatta' , 'jhansi', 'mumbai' , \n",
    "               'thane', 'panvel' , 'ulhasnagar', 'pune' , 'nerul' , \n",
    "               'juinagar' , 'airoli' , 'mumbra' , 'diva' , 'panvel',\n",
    "               'sion' , 'csmt' , 'thane' , 'ulhasnagar' , 'kolkatta']\n",
    "    \n",
    "}\n",
    "\n",
    "df = pd.DataFrame(studentData)\n",
    "print(\"Multiple column Data :\\n\" , df[['name' , 'city']])\n",
    "print(\"\\nSelect row by integar location :\\n\" , df.iloc[10])\n",
    "print(\"\\nSlice row :\\n\" ,df[4:10])\n",
    "print(\"\\nSelect row by condition :\\n\" , df[df['age']>25])"
   ]
  },
  {
   "cell_type": "markdown",
   "id": "3bf44589",
   "metadata": {},
   "source": [
    "## Column insertion"
   ]
  },
  {
   "cell_type": "code",
   "execution_count": 87,
   "id": "d0501145",
   "metadata": {},
   "outputs": [
    {
     "name": "stdout",
     "output_type": "stream",
     "text": [
      "       name   age  rollNo        city result\n",
      "0   pratham  20.0     101      mumbai   Pass\n",
      "1    suresh  22.0     102        pune   Pass\n",
      "2       raj  33.0     103    kolkatta   Pass\n",
      "3       NaN   NaN     104      jhansi   Pass\n",
      "4      amit  64.0     105      mumbai   Pass\n",
      "5      neha  88.0     106       thane   Pass\n",
      "6     vikas  23.0     107      panvel   Pass\n",
      "7     pooja  34.0     108  ulhasnagar   Pass\n",
      "8      ajay  11.0     109        pune   Pass\n",
      "9       NaN   NaN     110       nerul   Pass\n",
      "10    sneha  55.0     111    juinagar   Pass\n",
      "11      raj  36.0     112      airoli   Pass\n",
      "12    vivek  78.0     113      mumbra   Pass\n",
      "13     john  98.0     114        diva   Pass\n",
      "14    joker   NaN     115      panvel   Pass\n",
      "15  kalpesh  67.0     116        sion   Pass\n",
      "16    sahil  65.0     117        csmt   Pass\n",
      "17   nikhil  87.0     118       thane   Pass\n",
      "18   suresh  12.0     119  ulhasnagar   Pass\n",
      "19    hemat  45.0     120    kolkatta   Pass\n",
      "\n",
      "        name   age  rollNo        city result  Marks\n",
      "0   pratham  20.0     101      mumbai   Pass      1\n",
      "1    suresh  22.0     102        pune   Pass      1\n",
      "2       raj  33.0     103    kolkatta   Pass      1\n",
      "3       NaN   NaN     104      jhansi   Pass      1\n",
      "4      amit  64.0     105      mumbai   Pass      1\n",
      "5      neha  88.0     106       thane   Pass      1\n",
      "6     vikas  23.0     107      panvel   Pass      1\n",
      "7     pooja  34.0     108  ulhasnagar   Pass      1\n",
      "8      ajay  11.0     109        pune   Pass      1\n",
      "9       NaN   NaN     110       nerul   Pass      1\n",
      "10    sneha  55.0     111    juinagar   Pass      1\n",
      "11      raj  36.0     112      airoli   Pass      1\n",
      "12    vivek  78.0     113      mumbra   Pass      1\n",
      "13     john  98.0     114        diva   Pass      1\n",
      "14    joker   NaN     115      panvel   Pass      1\n",
      "15  kalpesh  67.0     116        sion   Pass      1\n",
      "16    sahil  65.0     117        csmt   Pass      1\n",
      "17   nikhil  87.0     118       thane   Pass      1\n",
      "18   suresh  12.0     119  ulhasnagar   Pass      1\n",
      "19    hemat  45.0     120    kolkatta   Pass      1\n"
     ]
    }
   ],
   "source": [
    "studentData = {\n",
    "    'name' : [ 'pratham' , 'suresh' , 'raj' , np.nan , 'amit'\n",
    "              ,'neha' , 'vikas' , 'pooja' , 'ajay' , np.nan\n",
    "              ,'sneha' , 'raj' , 'vivek' , 'john' , 'joker'\n",
    "              , 'kalpesh' , 'sahil' , 'nikhil' , 'suresh' , 'hemat' \n",
    "              ],\n",
    "\n",
    "    'age'   : [ 20 , 22 , 33 , np.nan , 64 , 88 , 23 , 34 , 11 , np.nan , \n",
    "               55 , 36 , 78 , 98 , np.nan , 67 , 65 , 87 , 12 , 45 \n",
    "               ],\n",
    "\n",
    "    'rollNo': [ 101 , 102 , 103 , 104 , 105 , 106 ,107 , 108 , 109 , 110 ,\n",
    "               111 , 112 , 113 , 114 , 115 , 116 , 117 , 118 , 119 , 120\n",
    "    ], \n",
    "\n",
    "    'city'  : [ 'mumbai' , 'pune' , 'kolkatta' , 'jhansi', 'mumbai' , \n",
    "               'thane', 'panvel' , 'ulhasnagar', 'pune' , 'nerul' , \n",
    "               'juinagar' , 'airoli' , 'mumbra' , 'diva' , 'panvel',\n",
    "               'sion' , 'csmt' , 'thane' , 'ulhasnagar' , 'kolkatta']\n",
    "    \n",
    "}\n",
    "df = pd.DataFrame(studentData)\n",
    "\n",
    "df[\"result\"] = \"Pass\"\n",
    "print(df)\n",
    "\n",
    "df[\"Marks\"] = [ 1,1,1,1,1,1,1,1,1,1,1,1,1,1,1,1,1,1,1,1]\n",
    "print(\"\\n\",df)"
   ]
  },
  {
   "cell_type": "code",
   "execution_count": null,
   "id": "13cc0af1",
   "metadata": {},
   "outputs": [],
   "source": [
    "hobbies = [ 'cricket' , 'football' , 'vollyball' , 'chess' , 'hockey',\n",
    "           'cricket' , 'tennis' , 'carrom' , 'football' , np.nan,\n",
    "           'carrom' , 'chess' , 'bgmi' , 'reading' , 'coding',\n",
    "           np.nan , 'football' , 'coding' , 'chess' , np.nan]\n",
    "\n",
    "df.insert(2 , \"hobbies\" , hobbies)"
   ]
  },
  {
   "cell_type": "code",
   "execution_count": 96,
   "id": "3aa73772",
   "metadata": {},
   "outputs": [
    {
     "name": "stdout",
     "output_type": "stream",
     "text": [
      "       name   age    hobbies  rollNo        city result  Marks  fees\n",
      "0   pratham  20.0    cricket     101      mumbai   Pass      1     2\n",
      "1    suresh  22.0   football     102        pune   Pass      1     2\n",
      "2       raj  33.0  vollyball     103    kolkatta   Pass      1     2\n",
      "3       NaN   NaN      chess     104      jhansi   Pass      1     2\n",
      "4      amit  64.0     hockey     105      mumbai   Pass      1     2\n",
      "5      neha  88.0    cricket     106       thane   Pass      1     2\n",
      "6     vikas  23.0     tennis     107      panvel   Pass      1     2\n",
      "7     pooja  34.0     carrom     108  ulhasnagar   Pass      1     2\n",
      "8      ajay  11.0   football     109        pune   Pass      1     2\n",
      "9       NaN   NaN        NaN     110       nerul   Pass      1     2\n",
      "10    sneha  55.0     carrom     111    juinagar   Pass      1     2\n",
      "11      raj  36.0      chess     112      airoli   Pass      1     2\n",
      "12    vivek  78.0       bgmi     113      mumbra   Pass      1     2\n",
      "13     john  98.0    reading     114        diva   Pass      1     2\n",
      "14    joker   NaN     coding     115      panvel   Pass      1     2\n",
      "15  kalpesh  67.0        NaN     116        sion   Pass      1     2\n",
      "16    sahil  65.0   football     117        csmt   Pass      1     2\n",
      "17   nikhil  87.0     coding     118       thane   Pass      1     2\n",
      "18   suresh  12.0      chess     119  ulhasnagar   Pass      1     2\n",
      "19    hemat  45.0        NaN     120    kolkatta   Pass      1     2\n"
     ]
    }
   ],
   "source": [
    "df['fees'] = df['Marks'] * 2\n",
    "print(df)"
   ]
  },
  {
   "cell_type": "markdown",
   "id": "1c812a6c",
   "metadata": {},
   "source": [
    "## Column Updation"
   ]
  },
  {
   "cell_type": "code",
   "execution_count": 110,
   "id": "8cd25b2d",
   "metadata": {},
   "outputs": [
    {
     "name": "stdout",
     "output_type": "stream",
     "text": [
      "      name  age  rollNo      city  marks gender\n",
      "0  pratham   20     101    mumbai      1      m\n",
      "1   suresh   22     102      pune      1      m\n",
      "2      raj   33     103  kolkatta      1      m\n",
      "3    sneha   43     104    jhansi      1      f\n",
      "4  kalpana   64     105    mumbai      1      f\n",
      "\n",
      "After Updation :\n",
      "       name  age  rollNo      city  marks gender\n",
      "0  pratham   20     101    mumbai    100      m\n",
      "1   suresh   22     102      pune    100      m\n",
      "2      raj   33     103  kolkatta    100      m\n",
      "3    sneha   43     104    jhansi    100      f\n",
      "4  kalpana   64     105    mumbai    100      f\n",
      "\n",
      "Updated Pratham marks :\n",
      "       name  age  rollNo      city  marks gender\n",
      "0  pratham   20     101    mumbai    999      m\n",
      "1   suresh   22     102      pune    100      m\n",
      "2      raj   33     103  kolkatta    100      m\n",
      "3    sneha   43     104    jhansi    100      f\n",
      "4  kalpana   64     105    mumbai    100      f\n",
      "\n",
      "Replace values :\n",
      "       name  age  rollNo        city  marks gender\n",
      "0  pratham   20     101  ulhasnagar    999      m\n",
      "1   suresh   22     102        pune    100      m\n",
      "2      raj   33     103    kolkatta    100      m\n",
      "3    sneha   43     104      jhansi    100      f\n",
      "4  kalpana   64     105  ulhasnagar    100      f\n"
     ]
    }
   ],
   "source": [
    "data = {\n",
    "    'name' : [ 'pratham' , 'suresh' , 'raj' , 'sneha' , 'kalpana' ],\n",
    "    'age'   : [ 20 , 22 , 33 , 43 , 64 ],\n",
    "    'rollNo': [ 101 , 102 , 103 , 104 , 105 ], \n",
    "    'city'  : [ 'mumbai' , 'pune' , 'kolkatta' , 'jhansi', 'mumbai'],\n",
    "    'marks' : [1,1,1,1,1],\n",
    "    'gender' : [ 'm' , 'm' , 'm' , 'f' , 'f' ]\n",
    "}\n",
    "\n",
    "df = pd.DataFrame(data)\n",
    "print(df)\n",
    "\n",
    "df['marks'] = 100\n",
    "print(\"\\nAfter Updation :\\n\",df)\n",
    "\n",
    "df.loc[df['rollNo'] == 101 , 'marks'] = 999\n",
    "print(\"\\nUpdated Pratham marks :\\n\",df)\n",
    "\n",
    "print(\"\\nReplace values :\\n\" , df.replace('mumbai' , 'ulhasnagar'))\n"
   ]
  },
  {
   "cell_type": "markdown",
   "id": "a1d37902",
   "metadata": {},
   "source": [
    "## Column Deletion"
   ]
  },
  {
   "cell_type": "code",
   "execution_count": 122,
   "id": "6b340837",
   "metadata": {},
   "outputs": [
    {
     "name": "stdout",
     "output_type": "stream",
     "text": [
      "      name  age  rollNo      city  marks gender\n",
      "0  pratham   20     101    mumbai      1      m\n",
      "1   suresh   22     102      pune      1      m\n",
      "2      raj   33     103  kolkatta      1      m\n",
      "3    sneha   43     104    jhansi      1      f\n",
      "4  kalpana   64     105    mumbai      1      f\n",
      "\n",
      "After deletion of column gender :\n",
      "        name  age  rollNo      city  marks\n",
      "0  pratham   20     101    mumbai      1\n",
      "1   suresh   22     102      pune      1\n",
      "2      raj   33     103  kolkatta      1\n",
      "3    sneha   43     104    jhansi      1\n",
      "4  kalpana   64     105    mumbai      1\n",
      "\n",
      "Multiple column deltion :\n",
      "       name  age  rollNo\n",
      "0  pratham   20     101\n",
      "1   suresh   22     102\n",
      "2      raj   33     103\n",
      "3    sneha   43     104\n",
      "4  kalpana   64     105\n"
     ]
    }
   ],
   "source": [
    "newData = {\n",
    "    'name' : [ 'pratham' , 'suresh' , 'raj' , 'sneha' , 'kalpana' ],\n",
    "    'age'   : [ 20 , 22 , 33 , 43 , 64 ],\n",
    "    'rollNo': [ 101 , 102 , 103 , 104 , 105 ], \n",
    "    'city'  : [ 'mumbai' , 'pune' , 'kolkatta' , 'jhansi', 'mumbai'],\n",
    "    'marks' : [1,1,1,1,1],\n",
    "    'gender' : [ 'm' , 'm' , 'm' , 'f' , 'f' ]\n",
    "}\n",
    "\n",
    "df = pd.DataFrame(newData)\n",
    "print(df)\n",
    "# delete single cloumn\n",
    "del df['gender']\n",
    "print(\"\\nAfter deletion of column gender :\\n \", df)\n",
    "\n",
    "# delete multiple column \n",
    "updateData = df.drop(columns=['city' , 'marks'])\n",
    "print(\"\\nMultiple column deltion :\\n\" , updateData)\n",
    "\n",
    "# delete duplicate column\n",
    "# print(\"\\nDelete Duplicates :\\n\", df.drop_duplicates(''))\n"
   ]
  },
  {
   "cell_type": "markdown",
   "id": "5f5e4bae",
   "metadata": {},
   "source": [
    "## Filter"
   ]
  },
  {
   "cell_type": "code",
   "execution_count": 9,
   "id": "fcb2608a",
   "metadata": {},
   "outputs": [
    {
     "name": "stdout",
     "output_type": "stream",
     "text": [
      "      name  age  rollNo  marks      city\n",
      "0  pratham   20     101    100    mumbai\n",
      "1   suresh   22     102    112      pune\n",
      "2      raj   33     103    190  kolkatta\n",
      "3    sneha   43     104    112    jhansi\n",
      "4  kalpana   64     105    150    mumbai\n",
      "\n",
      "       name  age  rollNo  marks    city\n",
      "0  pratham   20     101    100  mumbai\n",
      "4  kalpana   64     105    150  mumbai\n"
     ]
    }
   ],
   "source": [
    "data = {\n",
    "    'name' : [ 'pratham' , 'suresh' , 'raj' , 'sneha' , 'kalpana' ],\n",
    "    'age'   : [ 20 , 22 , 33 , 43 , 64 ],\n",
    "    'rollNo': [ 101 , 102 , 103 , 104 , 105 ], \n",
    "    'marks' : [100,112,190,112,150],\n",
    "    'city'  : [ 'mumbai' , 'pune' , 'kolkatta' , 'jhansi', 'mumbai']\n",
    "}\n",
    "\n",
    "df = pd.DataFrame(data)\n",
    "print(df)\n",
    "\n",
    "dt1 = df[df['age'].isin([20,64])]\n",
    "print(\"\\n\",dt1)\n"
   ]
  },
  {
   "cell_type": "markdown",
   "id": "9bad8b45",
   "metadata": {},
   "source": [
    "## Missing Data"
   ]
  },
  {
   "cell_type": "code",
   "execution_count": null,
   "id": "bd257416",
   "metadata": {},
   "outputs": [
    {
     "name": "stdout",
     "output_type": "stream",
     "text": [
      "      name   age  rollNo  marks      city\n",
      "0  pratham  20.0     101  100.0    mumbai\n",
      "1   suresh  22.0     102    NaN      pune\n",
      "2      raj   NaN     103  190.0  kolkatta\n",
      "3    sneha  43.0     104    NaN    jhansi\n",
      "4  kalpana  64.0     105  150.0    mumbai\n",
      "\n",
      "    name    age  rollNo  marks   city\n",
      "0  False  False   False  False  False\n",
      "1  False  False   False   True  False\n",
      "2  False   True   False  False  False\n",
      "3  False  False   False   True  False\n",
      "4  False  False   False  False  False\n",
      "\n",
      " name      0\n",
      "age       1\n",
      "rollNo    0\n",
      "marks     2\n",
      "city      0\n",
      "dtype: int64\n",
      "      name    age  rollNo  marks      city\n",
      "0  pratham   20.0     101  100.0    mumbai\n",
      "1   suresh   22.0     102  123.0      pune\n",
      "2      raj  123.0     103  190.0  kolkatta\n",
      "3    sneha   43.0     104  123.0    jhansi\n",
      "4  kalpana   64.0     105  150.0    mumbai\n"
     ]
    }
   ],
   "source": [
    "data = {\n",
    "    'name' : [ 'pratham' , 'suresh' , 'raj' , 'sneha' , 'kalpana' ],\n",
    "    'age'   : [ 20 , 22 , np.nan , 43 , 64 ],\n",
    "    'rollNo': [ 101 , 102 , 103 , 104 , 105 ], \n",
    "    'marks' : [100,np.nan,190,np.nan,150],\n",
    "    'city'  : [ 'mumbai' , 'pune' , 'kolkatta' , 'jhansi', 'mumbai']\n",
    "}\n",
    "\n",
    "df = pd.DataFrame(data)\n",
    "print(df)\n",
    "\n",
    "# Boolean mask where values are nan\n",
    "print()\n",
    "print(df.isna())\n",
    "\n",
    "print(\"\\n\", df.isna().sum())\n",
    "\n",
    "# Filling missing data\n",
    "print(df.fillna(value=123))\n",
    "\n",
    "# use backward and forward filling to get accurate data\n",
    "# print(df.bfill())  # it will print value below the nan\n",
    "# print(df.ffill())  # it will print value above the nan\n",
    "\n",
    "# To drop missing data\n",
    "# print(df.dropna())\n",
    "\n"
   ]
  },
  {
   "cell_type": "markdown",
   "id": "0bc3c5c5",
   "metadata": {},
   "source": [
    "## Statistical Data "
   ]
  },
  {
   "cell_type": "code",
   "execution_count": 29,
   "id": "665ed5a9",
   "metadata": {},
   "outputs": [
    {
     "name": "stdout",
     "output_type": "stream",
     "text": [
      "      name   age  rollNo  marks      city\n",
      "0  pratham  20.0     101  100.0    mumbai\n",
      "1   suresh  22.0     102    NaN      pune\n",
      "2      raj   NaN     103  190.0  kolkatta\n",
      "3    sneha  43.0     104    NaN    jhansi\n",
      "4  kalpana  64.0     105  150.0    mumbai\n",
      "\n",
      "The mean of age is :  37.25\n",
      "\n",
      "The mean of 'age' and 'marks' is :\n",
      " age       37.250000\n",
      "marks    146.666667\n",
      "dtype: float64\n",
      "\n",
      "mean age :  37.25\n",
      "\n",
      "Age statistics :\n",
      " mean    37.25\n",
      "min     20.00\n",
      "max     64.00\n",
      "Name: age, dtype: float64\n",
      "\n",
      "custom aggreation is :\n",
      "          age  marks  rollNo\n",
      "mean   37.25    NaN     NaN\n",
      "min    20.00    NaN     NaN\n",
      "max    64.00    NaN     NaN\n",
      "count   4.00    NaN     5.0\n",
      "sum      NaN  440.0     NaN\n"
     ]
    }
   ],
   "source": [
    "data = {\n",
    "    'name' : [ 'pratham' , 'suresh' , 'raj' , 'sneha' , 'kalpana' ],\n",
    "    'age'   : [ 20 , 22 , np.nan , 43 , 64 ],\n",
    "    'rollNo': [ 101 , 102 , 103 , 104 , 105 ], \n",
    "    'marks' : [100,np.nan,190,np.nan,150],\n",
    "    'city'  : [ 'mumbai' , 'pune' , 'kolkatta' , 'jhansi', 'mumbai']\n",
    "}\n",
    "\n",
    "df = pd.DataFrame(data)\n",
    "print(df)\n",
    "\n",
    "# calculating the mean of 'age' column\n",
    "age_mean = df['age'].mean()\n",
    "print(\"\\nThe mean of age is : \", age_mean)\n",
    "\n",
    "# calculating the mean of 'age' and 'marks' column \n",
    "selected_mean = df[['age' , 'marks']].mean()\n",
    "print(\"\\nThe mean of 'age' and 'marks' is :\\n\" , selected_mean)\n",
    "\n",
    "# Apply single Aggreation function\n",
    "agg_age_mean = df['age'].agg('mean')\n",
    "print(\"\\nmean age : \", agg_age_mean)\n",
    "\n",
    "# Apply multiple Aggreation function\n",
    "agg_age_stats = df['age'].agg(['mean', 'min' , 'max'])\n",
    "print(\"\\nAge statistics :\\n\", agg_age_stats)\n",
    "\n",
    "# Apply different aggreation function to different columns\n",
    "custom_agg = df.agg({\n",
    "    'age' : ['mean', 'min' , 'max', 'count'],\n",
    "    'marks' : 'sum',\n",
    "    'rollNo' : 'count'\n",
    "})\n",
    "print(\"\\ncustom aggreation is :\\n\" , custom_agg)"
   ]
  },
  {
   "cell_type": "markdown",
   "id": "af8197d0",
   "metadata": {},
   "source": [
    "## Transformation"
   ]
  },
  {
   "cell_type": "code",
   "execution_count": 32,
   "id": "8fbf1769",
   "metadata": {},
   "outputs": [
    {
     "name": "stdout",
     "output_type": "stream",
     "text": [
      "      name   age  rollNo  marks      city\n",
      "0  pratham  20.0     101  100.0    mumbai\n",
      "1   suresh  22.0     102    NaN      pune\n",
      "2      raj   NaN     103  190.0  kolkatta\n",
      "3    sneha  43.0     104    NaN    jhansi\n",
      "4  kalpana  64.0     105  150.0    mumbai\n",
      "\n",
      "Updated age is :\n",
      " 0    21.0\n",
      "1    23.0\n",
      "2     NaN\n",
      "3    44.0\n",
      "4    65.0\n",
      "Name: age, dtype: float64\n",
      "\n",
      "Updated age and marks is :\n",
      "     age  marks\n",
      "0  21.0  101.0\n",
      "1  23.0    NaN\n",
      "2   NaN  191.0\n",
      "3  44.0    NaN\n",
      "4  65.0  151.0\n",
      "\n",
      "Upadted Data is :\n",
      "     age  marks\n",
      "0  21.0  200.0\n",
      "1  23.0    NaN\n",
      "2   NaN  380.0\n",
      "3  44.0    NaN\n",
      "4  65.0  300.0\n"
     ]
    }
   ],
   "source": [
    "data = {\n",
    "    'name' : [ 'pratham' , 'suresh' , 'raj' , 'sneha' , 'kalpana' ],\n",
    "    'age'   : [ 20 , 22 , np.nan , 43 , 64 ],\n",
    "    'rollNo': [ 101 , 102 , 103 , 104 , 105 ], \n",
    "    'marks' : [100,np.nan,190,np.nan,150],\n",
    "    'city'  : [ 'mumbai' , 'pune' , 'kolkatta' , 'jhansi', 'mumbai']\n",
    "}\n",
    "\n",
    "df = pd.DataFrame(data)\n",
    "print(df)\n",
    "\n",
    "# Apply single transformation function\n",
    "age_plus_one = df['age'].transform(lambda x : x + 1)\n",
    "print(\"\\nUpdated age is :\\n\", age_plus_one)\n",
    "\n",
    "# Apply multiple transformation function\n",
    "multiple_trans = df[['age' , 'marks']].transform(lambda x : x + 1)\n",
    "print(\"\\nUpdated age and marks is :\\n\", multiple_trans)\n",
    "\n",
    "# Apply different transformation function to different columns\n",
    "df_transform = df.transform({\n",
    "    'age' : lambda x : x + 1,\n",
    "    'marks' : lambda x : x * 2\n",
    "})\n",
    "print(\"\\nUpadted Data is :\\n\", df_transform)"
   ]
  },
  {
   "cell_type": "markdown",
   "id": "27a075a2",
   "metadata": {},
   "source": [
    "## Value Count"
   ]
  },
  {
   "cell_type": "code",
   "execution_count": 36,
   "id": "ce469c7b",
   "metadata": {},
   "outputs": [
    {
     "name": "stdout",
     "output_type": "stream",
     "text": [
      "      name  age  marks      city\n",
      "0  pratham   20    100    mumbai\n",
      "1   suresh   22    102      pune\n",
      "2      raj   20    190  kolkatta\n",
      "3    sneha   43    190      pune\n",
      "4      raj   22    150    mumbai\n",
      "5  pratham   43    100  kolkatta\n",
      "6   suresh   22    160      pune\n",
      "\n",
      "city counts :\n",
      " city\n",
      "kolkatta    2\n",
      "mumbai      2\n",
      "pune        3\n",
      "Name: count, dtype: int64\n"
     ]
    }
   ],
   "source": [
    "data = {\n",
    "    'name' : [ 'pratham' , 'suresh' , 'raj' , 'sneha' , 'raj' , 'pratham' , 'suresh' ],\n",
    "    'age'   : [ 20 , 22 , 20, 43 , 22, 43 , 22 ],\n",
    "    'marks' : [100,102,190,190,150 , 100 , 160],\n",
    "    'city'  : [ 'mumbai' , 'pune' , 'kolkatta' , 'pune', 'mumbai' , 'kolkatta' , 'pune']\n",
    "}\n",
    "\n",
    "df = pd.DataFrame(data)\n",
    "print(df)\n",
    "\n",
    "city_count = df['city'].value_counts().sort_index()\n",
    "print(\"\\ncity counts :\\n\" , city_count)"
   ]
  },
  {
   "cell_type": "markdown",
   "id": "2817580c",
   "metadata": {},
   "source": [
    "## String Methods"
   ]
  },
  {
   "cell_type": "code",
   "execution_count": null,
   "id": "b25fd9cb",
   "metadata": {},
   "outputs": [
    {
     "name": "stdout",
     "output_type": "stream",
     "text": [
      "      name  age  marks      city\n",
      "0  pratham   20    100    mumbai\n",
      "1   suresh   22    102      pune\n",
      "2      raj   20    190  kolkatta\n",
      "3    sneha   43    190      pune\n",
      "\n",
      "uppercase cities :\n",
      " 0      MUMBAI\n",
      "1        PUNE\n",
      "2    KOLKATTA\n",
      "3        PUNE\n",
      "Name: city, dtype: object\n",
      "\n",
      "string length cities:\n",
      " 0    6\n",
      "1    4\n",
      "2    8\n",
      "3    4\n",
      "Name: city, dtype: int64\n"
     ]
    }
   ],
   "source": [
    "data = {\n",
    "    'name' : [ 'pratham' , 'suresh' , 'raj' , 'sneha'],\n",
    "    'age'   : [ 20 , 22 , 20, 43  ],\n",
    "    'marks' : [100,102,190,190],\n",
    "    'city'  : [ 'mumbai' , 'pune' , 'kolkatta' , 'pune']\n",
    "}\n",
    "\n",
    "df = pd.DataFrame(data)\n",
    "print(df)\n",
    "\n",
    "print(\"\\nuppercase cities :\\n\" , df['city'].str.upper())\n",
    "\n",
    "print(\"\\nstring length cities:\\n\", df['city'].str.len())\n",
    "\n",
    "# same as python...."
   ]
  },
  {
   "cell_type": "markdown",
   "id": "5b57a774",
   "metadata": {},
   "source": [
    "## Merge "
   ]
  },
  {
   "cell_type": "code",
   "execution_count": 47,
   "id": "153c9f48",
   "metadata": {},
   "outputs": [
    {
     "name": "stdout",
     "output_type": "stream",
     "text": [
      "Inner join :\n",
      "    id    name  score\n",
      "0   3    john     90\n",
      "1   4  ronnie     40\n",
      "\n",
      "left join :\n",
      "    id     name  score\n",
      "0   1  pratham    NaN\n",
      "1   2    shawn    NaN\n",
      "2   3     john   90.0\n",
      "3   4   ronnie   40.0\n",
      "\n",
      "right join :\n",
      "    id    name  score\n",
      "0   3    john     90\n",
      "1   4  ronnie     40\n",
      "2   5     NaN     50\n",
      "3   6     NaN     80\n",
      "\n",
      "outer join :\n",
      "    id     name  score\n",
      "0   1  pratham    NaN\n",
      "1   2    shawn    NaN\n",
      "2   3     john   90.0\n",
      "3   4   ronnie   40.0\n",
      "4   5      NaN   50.0\n",
      "5   6      NaN   80.0\n"
     ]
    }
   ],
   "source": [
    "df1 = pd.DataFrame({\n",
    "    'id' : [ 1, 2, 3 , 4],\n",
    "    'name' : [ 'pratham' ,'shawn', 'john' ,'ronnie']\n",
    "})\n",
    "\n",
    "df2 = pd.DataFrame({\n",
    "    'id' : [ 3, 4, 5 , 6],\n",
    "    'score' : [ 90 , 40 ,50 ,80 ]\n",
    "})\n",
    "\n",
    "## Inner join \n",
    "inner_join  = pd.merge(df1,df2, on ='id')\n",
    "print(\"Inner join :\\n\" , inner_join)\n",
    "\n",
    "# Left join\n",
    "left_join  = pd.merge(df1,df2, on ='id', how='left')\n",
    "print(\"\\nleft join :\\n\" , left_join)\n",
    "\n",
    "## Right join\n",
    "right_join  = pd.merge(df1,df2, on ='id', how='right')\n",
    "print(\"\\nright join :\\n\" , right_join)\n",
    "\n",
    "## Outer join\n",
    "outer_join  = pd.merge(df1,df2, on ='id', how='outer')\n",
    "print(\"\\nouter join :\\n\" , outer_join)"
   ]
  },
  {
   "cell_type": "code",
   "execution_count": 48,
   "id": "2a31add4",
   "metadata": {},
   "outputs": [
    {
     "name": "stdout",
     "output_type": "stream",
     "text": [
      "Inner join :\n",
      "    id    name  stu_id  score\n",
      "0   3    john       3     90\n",
      "1   4  ronnie       4     40\n"
     ]
    }
   ],
   "source": [
    "# If the id is not same \n",
    "df1 = pd.DataFrame({\n",
    "    'id' : [ 1, 2, 3 , 4],\n",
    "    'name' : [ 'pratham' ,'shawn', 'john' ,'ronnie']\n",
    "})\n",
    "\n",
    "df2 = pd.DataFrame({\n",
    "    'stu_id' : [ 3, 4, 5 , 6],\n",
    "    'score' : [ 90 , 40 ,50 ,80 ]\n",
    "})\n",
    "\n",
    "## Inner join \n",
    "inner_join  = pd.merge(df1,df2, left_on='id' , right_on='stu_id')\n",
    "print(\"Inner join :\\n\" , inner_join)"
   ]
  },
  {
   "cell_type": "markdown",
   "id": "65370c95",
   "metadata": {},
   "source": [
    "## Concat"
   ]
  },
  {
   "cell_type": "code",
   "execution_count": 51,
   "id": "e56dd4f7",
   "metadata": {},
   "outputs": [
    {
     "name": "stdout",
     "output_type": "stream",
     "text": [
      "\n",
      "Vertical concatenation :\n",
      "     A   B\n",
      "0  A0  B0\n",
      "1  A1  B1\n",
      "2  A2  B2\n",
      "3  A3  B3\n",
      "0  A4  B4\n",
      "1  A4  B5\n",
      "2  A5  B6\n",
      "3  A6  B7\n",
      "\n",
      "Horizontal concatenation :\n",
      "     A   B   A   B\n",
      "0  A0  B0  A4  B4\n",
      "1  A1  B1  A4  B5\n",
      "2  A2  B2  A5  B6\n",
      "3  A3  B3  A6  B7\n",
      "\n",
      "Different column concatenation :\n",
      "     A   B   C   D\n",
      "0  A0  B0  C0  D0\n",
      "1  A1  B1  C1  D1\n",
      "2  A2  B2  C2  D2\n",
      "3  A3  B3  C3  D3\n"
     ]
    }
   ],
   "source": [
    "df1 = pd.DataFrame({\n",
    "    'A' : ['A0' , 'A1' , 'A2' ,'A3'],\n",
    "    'B' : ['B0' , 'B1' , 'B2' ,'B3'],\n",
    "})\n",
    "\n",
    "df2 = pd.DataFrame({\n",
    "    'A' : ['A4' , 'A4' , 'A5' ,'A6'],\n",
    "    'B' : ['B4' , 'B5' , 'B6' ,'B7'],\n",
    "})\n",
    "\n",
    "df3 = pd.DataFrame({\n",
    "    'C' : ['C0' , 'C1' , 'C2' ,'C3'],\n",
    "    'D' : ['D0' , 'D1' , 'D2' ,'D3'],\n",
    "})\n",
    "\n",
    "# Vertical concatenation\n",
    "vertical_concat = pd.concat([df1,df2])\n",
    "print(\"\\nVertical concatenation :\\n\" , vertical_concat)\n",
    "\n",
    "# Horizontal concatenation\n",
    "horizontal_concat = pd.concat([df1,df2] , axis=1)\n",
    "print(\"\\nHorizontal concatenation :\\n\" , horizontal_concat)\n",
    "\n",
    "# concatenation with different column\n",
    "different_column_concat = pd.concat([df1,df3] , axis=1)\n",
    "print(\"\\nDifferent column concatenation :\\n\" , different_column_concat)\n",
    "\n"
   ]
  },
  {
   "cell_type": "markdown",
   "id": "6fab2196",
   "metadata": {},
   "source": [
    "## Grouping"
   ]
  },
  {
   "cell_type": "code",
   "execution_count": null,
   "id": "a9222606",
   "metadata": {},
   "outputs": [],
   "source": []
  }
 ],
 "metadata": {
  "kernelspec": {
   "display_name": "venv",
   "language": "python",
   "name": "python3"
  },
  "language_info": {
   "codemirror_mode": {
    "name": "ipython",
    "version": 3
   },
   "file_extension": ".py",
   "mimetype": "text/x-python",
   "name": "python",
   "nbconvert_exporter": "python",
   "pygments_lexer": "ipython3",
   "version": "3.12.6"
  }
 },
 "nbformat": 4,
 "nbformat_minor": 5
}
