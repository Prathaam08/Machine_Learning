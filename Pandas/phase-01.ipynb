{
 "cells": [
  {
   "cell_type": "markdown",
   "id": "a233be4b",
   "metadata": {},
   "source": [
    "## Pandas"
   ]
  },
  {
   "cell_type": "code",
   "execution_count": 28,
   "id": "6fceff85",
   "metadata": {},
   "outputs": [],
   "source": [
    "import pandas as pd\n",
    "import numpy as np"
   ]
  },
  {
   "cell_type": "markdown",
   "id": "a0c2eae4",
   "metadata": {},
   "source": [
    "## Series"
   ]
  },
  {
   "cell_type": "code",
   "execution_count": 11,
   "id": "fd7994e7",
   "metadata": {},
   "outputs": [
    {
     "name": "stdout",
     "output_type": "stream",
     "text": [
      "0    1\n",
      "1    2\n",
      "2    3\n",
      "3    4\n",
      "4    5\n",
      "dtype: int64\n"
     ]
    }
   ],
   "source": [
    "a = pd.Series([1,2,3,4,5])\n",
    "print(a)"
   ]
  },
  {
   "cell_type": "code",
   "execution_count": 12,
   "id": "14120d38",
   "metadata": {},
   "outputs": [
    {
     "name": "stdout",
     "output_type": "stream",
     "text": [
      "a    1\n",
      "b    2\n",
      "c    3\n",
      "d    4\n",
      "e    5\n",
      "dtype: int64\n"
     ]
    }
   ],
   "source": [
    "# List\n",
    "b = pd.Series([1,2,3,4,5] , index = [\"a\" ,\"b\" ,\"c\" ,\"d\" , \"e\"])\n",
    "print(b)"
   ]
  },
  {
   "cell_type": "code",
   "execution_count": 13,
   "id": "ee5d0970",
   "metadata": {},
   "outputs": [
    {
     "name": "stdout",
     "output_type": "stream",
     "text": [
      "a    1\n",
      "b    2\n",
      "c    3\n",
      "dtype: int64\n"
     ]
    }
   ],
   "source": [
    "# Dictionary\n",
    "c = pd.Series({\"a\" : 1 , \"b\" : 2 , \"c\" : 3})\n",
    "print(c)"
   ]
  },
  {
   "cell_type": "code",
   "execution_count": 14,
   "id": "a45477e6",
   "metadata": {},
   "outputs": [
    {
     "name": "stdout",
     "output_type": "stream",
     "text": [
      "a    5\n",
      "b    5\n",
      "c    5\n",
      "d    5\n",
      "e    5\n",
      "dtype: int64\n"
     ]
    }
   ],
   "source": [
    "d = pd.Series(5 , index = [\"a\" ,\"b\" ,\"c\" ,\"d\" , \"e\"])\n",
    "print(d)"
   ]
  },
  {
   "cell_type": "markdown",
   "id": "6f1253c3",
   "metadata": {},
   "source": [
    "### DataFrame"
   ]
  },
  {
   "cell_type": "code",
   "execution_count": null,
   "id": "aed5fd14",
   "metadata": {},
   "outputs": [
    {
     "name": "stdout",
     "output_type": "stream",
     "text": [
      "      name  age\n",
      "a  pratham   20\n",
      "b     john   25\n",
      "c    henry   30\n",
      "d    shawn   35\n"
     ]
    }
   ],
   "source": [
    "data = {\n",
    "    'name' : ['pratham' , 'john' , 'henry' , 'shawn'],\n",
    "    'age'  : [20 , 25 , 30 , 35]\n",
    "}\n",
    "\n",
    "df = pd.DataFrame(data , index = [\"a\" , \"b\" , \"c\" , \"d\"]) # default index is 0,1,2,3,..\n",
    "print(df)"
   ]
  },
  {
   "cell_type": "code",
   "execution_count": 27,
   "id": "0e99ed6a",
   "metadata": {},
   "outputs": [
    {
     "name": "stdout",
     "output_type": "stream",
     "text": [
      "Index :  Index(['a', 'b', 'c', 'd'], dtype='object')\n",
      "\n",
      "Index :\n",
      " a    pratham\n",
      "b       john\n",
      "c      henry\n",
      "d      shawn\n",
      "Name: name, dtype: object\n",
      "\n",
      "Age :\n",
      " a    20\n",
      "b    25\n",
      "c    30\n",
      "d    35\n",
      "Name: age, dtype: int64\n",
      "\n",
      "Specific element :\n",
      " pratham\n"
     ]
    }
   ],
   "source": [
    "data = {\n",
    "    'name' : ['pratham' , 'john' , 'henry' , 'shawn'],\n",
    "    'age'  : [20 , 25 , 30 , 35]\n",
    "}\n",
    "\n",
    "df = pd.DataFrame(data , index = [\"a\" , \"b\" , \"c\" , \"d\"]) # default index is 0,1,2,3,..\n",
    "print(\"Index : \" , df.index)\n",
    "print(\"\\nIndex :\\n\" , df.name)\n",
    "print(\"\\nAge :\\n\" , df.age)\n",
    "print(\"\\nSpecific element :\\n\" , df.name.get(\"a\"))"
   ]
  },
  {
   "cell_type": "markdown",
   "id": "227dbce8",
   "metadata": {},
   "source": [
    "## Inspecting Data or Viewing Data"
   ]
  },
  {
   "cell_type": "code",
   "execution_count": 57,
   "id": "65d065eb",
   "metadata": {},
   "outputs": [
    {
     "name": "stdout",
     "output_type": "stream",
     "text": [
      "Data :\n",
      "        name   age\n",
      "0   pratham  20.0\n",
      "1    suresh  22.0\n",
      "2       raj  33.0\n",
      "3       NaN   NaN\n",
      "4      amit  64.0\n",
      "5      neha  88.0\n",
      "6     vikas  23.0\n",
      "7     pooja  34.0\n",
      "8      ajay  11.0\n",
      "9       NaN   NaN\n",
      "10    sneha  55.0\n",
      "11      raj  36.0\n",
      "12    vivek  78.0\n",
      "13     john  98.0\n",
      "14    joker   NaN\n",
      "15  kalpesh  67.0\n",
      "16    sahil  65.0\n",
      "17   nikhil  87.0\n",
      "18   suresh  12.0\n",
      "19    hemat  45.0\n",
      "\n",
      "Top 5 data entries :\n",
      "       name   age\n",
      "0  pratham  20.0\n",
      "1   suresh  22.0\n",
      "2      raj  33.0\n",
      "3      NaN   NaN\n",
      "4     amit  64.0\n",
      "\n",
      "Bottom entries :\n",
      "       name   age\n",
      "17  nikhil  87.0\n",
      "18  suresh  12.0\n",
      "19   hemat  45.0\n",
      "<class 'pandas.core.frame.DataFrame'>\n",
      "RangeIndex: 20 entries, 0 to 19\n",
      "Data columns (total 2 columns):\n",
      " #   Column  Non-Null Count  Dtype  \n",
      "---  ------  --------------  -----  \n",
      " 0   name    18 non-null     object \n",
      " 1   age     17 non-null     float64\n",
      "dtypes: float64(1), object(1)\n",
      "memory usage: 452.0+ bytes\n"
     ]
    }
   ],
   "source": [
    "data = {\n",
    "    'name' : [ 'pratham' , 'suresh' , 'raj' , np.nan , 'amit'\n",
    "              ,'neha' , 'vikas' , 'pooja' , 'ajay' , np.nan\n",
    "              ,'sneha' , 'raj' , 'vivek' , 'john' , 'joker'\n",
    "              , 'kalpesh' , 'sahil' , 'nikhil' , 'suresh' , 'hemat' \n",
    "              ],\n",
    "\n",
    "    'age'   : [ 20 , 22 , 33 , np.nan , 64 , 88 , 23 , 34 , 11 , np.nan , \n",
    "               55 , 36 , 78 , 98 , np.nan , 67 , 65 , 87 , 12 , 45 \n",
    "               ]\n",
    "}\n",
    "\n",
    "# df = pd.DataFrame(data , index = [i+1 for i in range(len(data['name']))])\n",
    "df = pd.DataFrame(data )\n",
    "print(\"Data :\\n\" , df)\n",
    "print(\"\\nTop 5 data entries :\\n\" , df.head())\n",
    "print(\"\\nBottom entries :\\n\" , df.tail(3))\n",
    "df.info()"
   ]
  },
  {
   "cell_type": "code",
   "execution_count": 58,
   "id": "ac1efde7",
   "metadata": {},
   "outputs": [
    {
     "name": "stdout",
     "output_type": "stream",
     "text": [
      "\n",
      "Total null values:\n",
      " name    2\n",
      "age     3\n",
      "dtype: int64\n",
      "\n",
      "Satistical Summary :\n",
      "              age\n",
      "count  17.000000\n",
      "mean   49.294118\n",
      "std    28.252798\n",
      "min    11.000000\n",
      "25%    23.000000\n",
      "50%    45.000000\n",
      "75%    67.000000\n",
      "max    98.000000\n",
      "\n",
      "Duplicate entries :  0     False\n",
      "1     False\n",
      "2     False\n",
      "3     False\n",
      "4     False\n",
      "5     False\n",
      "6     False\n",
      "7     False\n",
      "8     False\n",
      "9      True\n",
      "10    False\n",
      "11     True\n",
      "12    False\n",
      "13    False\n",
      "14    False\n",
      "15    False\n",
      "16    False\n",
      "17    False\n",
      "18     True\n",
      "19    False\n",
      "Name: name, dtype: bool\n",
      "\n",
      "Total Duplicate entries :  3\n"
     ]
    }
   ],
   "source": [
    "print(\"\\nTotal null values:\\n\" , df.isnull().sum())\n",
    "print(\"\\nSatistical Summary :\\n\" , df.describe())\n",
    "print(\"\\nDuplicate entries : \", df['name'].duplicated())\n",
    "print(\"\\nTotal Duplicate entries : \", df['name'].duplicated().sum())"
   ]
  },
  {
   "cell_type": "code",
   "execution_count": 62,
   "id": "8e75250c",
   "metadata": {},
   "outputs": [
    {
     "name": "stdout",
     "output_type": "stream",
     "text": [
      "\n",
      "Sort by index :\n",
      "        name   age\n",
      "0   pratham  20.0\n",
      "1    suresh  22.0\n",
      "2       raj  33.0\n",
      "3       NaN   NaN\n",
      "4      amit  64.0\n",
      "5      neha  88.0\n",
      "6     vikas  23.0\n",
      "7     pooja  34.0\n",
      "8      ajay  11.0\n",
      "9       NaN   NaN\n",
      "10    sneha  55.0\n",
      "11      raj  36.0\n",
      "12    vivek  78.0\n",
      "13     john  98.0\n",
      "14    joker   NaN\n",
      "15  kalpesh  67.0\n",
      "16    sahil  65.0\n",
      "17   nikhil  87.0\n",
      "18   suresh  12.0\n",
      "19    hemat  45.0\n",
      "\n",
      "Sort by values :\n",
      "        name   age\n",
      "8      ajay  11.0\n",
      "18   suresh  12.0\n",
      "0   pratham  20.0\n",
      "1    suresh  22.0\n",
      "6     vikas  23.0\n",
      "2       raj  33.0\n",
      "7     pooja  34.0\n",
      "11      raj  36.0\n",
      "19    hemat  45.0\n",
      "10    sneha  55.0\n",
      "4      amit  64.0\n",
      "16    sahil  65.0\n",
      "15  kalpesh  67.0\n",
      "12    vivek  78.0\n",
      "17   nikhil  87.0\n",
      "5      neha  88.0\n",
      "13     john  98.0\n",
      "3       NaN   NaN\n",
      "9       NaN   NaN\n",
      "14    joker   NaN\n"
     ]
    }
   ],
   "source": [
    "print(\"\\nSort by index :\\n\" , df.sort_index())\n",
    "print(\"\\nSort by values :\\n\" , df.sort_values('age'))\n",
    "# print(\"\\nSort by index :\\n\" , df.sort_index())"
   ]
  },
  {
   "cell_type": "markdown",
   "id": "d4bd4411",
   "metadata": {},
   "source": [
    "## Column Selection or Indexing"
   ]
  },
  {
   "cell_type": "code",
   "execution_count": null,
   "id": "0ca97ede",
   "metadata": {},
   "outputs": [],
   "source": [
    "data = {\n",
    "    'name' : [ 'pratham' , 'suresh' , 'raj' , np.nan , 'amit'\n",
    "              ,'neha' , 'vikas' , 'pooja' , 'ajay' , np.nan\n",
    "              ,'sneha' , 'raj' , 'vivek' , 'john' , 'joker'\n",
    "              , 'kalpesh' , 'sahil' , 'nikhil' , 'suresh' , 'hemat' \n",
    "              ],\n",
    "\n",
    "    'age'   : [ 20 , 22 , 33 , np.nan , 64 , 88 , 23 , 34 , 11 , np.nan , \n",
    "               55 , 36 , 78 , 98 , np.nan , 67 , 65 , 87 , 12 , 45 \n",
    "               ]\n",
    "}"
   ]
  }
 ],
 "metadata": {
  "kernelspec": {
   "display_name": "venv",
   "language": "python",
   "name": "python3"
  },
  "language_info": {
   "codemirror_mode": {
    "name": "ipython",
    "version": 3
   },
   "file_extension": ".py",
   "mimetype": "text/x-python",
   "name": "python",
   "nbconvert_exporter": "python",
   "pygments_lexer": "ipython3",
   "version": "3.12.6"
  }
 },
 "nbformat": 4,
 "nbformat_minor": 5
}
